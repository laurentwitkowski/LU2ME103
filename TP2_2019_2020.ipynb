{
 "cells": [
  {
   "cell_type": "markdown",
   "metadata": {
    "deletable": false,
    "editable": false,
    "nbgrader": {
     "cell_type": "markdown",
     "checksum": "9c3048047d3303652416218dbb6a1c94",
     "grade": false,
     "grade_id": "cell-4753e0333a7f7fcc",
     "locked": true,
     "schema_version": 3,
     "solution": false,
     "task": false
    }
   },
   "source": [
    "# TP 2 : Approfondissement de Python : boucles, séries"
   ]
  },
  {
   "cell_type": "markdown",
   "metadata": {
    "deletable": false,
    "editable": false,
    "nbgrader": {
     "cell_type": "markdown",
     "checksum": "f84711b27473cef70fb83b82356f7b2a",
     "grade": false,
     "grade_id": "cell-c02d03cc32385334",
     "locked": true,
     "schema_version": 3,
     "solution": false,
     "task": false
    }
   },
   "source": [
    "## Courbes trigonométriques\n",
    "\n",
    "\n",
    "En utilisant subplot pour créer deux sous-graphiques dans la même figure\n",
    "\n",
    "* Tracer un cosinus avec 20 points en abscisse (bien observer les valeurs des abscisses et utiliser la fonction linspace de `numpy`) \n",
    "* Faire la même chose avec 200 points pour le deuxième graphique.\n",
    "* Ajouter dans chaque sous-graphique une courbe sinus.\n",
    "* Indiquer le nom des axes. \n",
    "* Mettre des titres, des légendes.\n",
    "* Redéfinir les limites des axes. \n",
    "\n",
    "Vous devez obtenir la figure suivante:\n",
    "![Fonctions Trigo](fctTrigo.png)"
   ]
  },
  {
   "cell_type": "code",
   "execution_count": null,
   "metadata": {
    "deletable": false,
    "nbgrader": {
     "cell_type": "code",
     "checksum": "bdb85377131209a3b45d9193bff9465d",
     "grade": true,
     "grade_id": "cell-6a33b2e8debf4c58",
     "locked": false,
     "points": 0,
     "schema_version": 3,
     "solution": true,
     "task": false
    }
   },
   "outputs": [],
   "source": [
    "# Réponse \n"
   ]
  },
  {
   "cell_type": "markdown",
   "metadata": {
    "deletable": false,
    "editable": false,
    "nbgrader": {
     "cell_type": "markdown",
     "checksum": "6a506ea6c7eed7093a334f57e124230b",
     "grade": false,
     "grade_id": "cell-4f31a56146d45f3a",
     "locked": true,
     "schema_version": 3,
     "solution": false,
     "task": false
    }
   },
   "source": [
    "## Sommes et Produits\n",
    "\n",
    "* Écrire un code avec une boucle *for* qui calcule la somme des entiers entre 1 et 13.\n",
    "* Écrire un code avec une boucle *for* qui calcule le produit des entiers entre 1 et 13.\n"
   ]
  },
  {
   "cell_type": "code",
   "execution_count": null,
   "metadata": {
    "deletable": false,
    "nbgrader": {
     "cell_type": "code",
     "checksum": "42c13a2b4266d0cbd41557c75c8d01e6",
     "grade": true,
     "grade_id": "cell-bf430932a47c0fca",
     "locked": false,
     "points": 0,
     "schema_version": 3,
     "solution": true,
     "task": false
    }
   },
   "outputs": [],
   "source": [
    "# Réponse \n"
   ]
  },
  {
   "cell_type": "markdown",
   "metadata": {
    "deletable": false,
    "editable": false,
    "nbgrader": {
     "cell_type": "markdown",
     "checksum": "cb9367273cc99510c98ded0d63ef40d4",
     "grade": false,
     "grade_id": "cell-48656c0a3922033a",
     "locked": true,
     "schema_version": 3,
     "solution": false,
     "task": false
    }
   },
   "source": [
    "## Série de fonctions"
   ]
  },
  {
   "cell_type": "markdown",
   "metadata": {
    "deletable": false,
    "editable": false,
    "nbgrader": {
     "cell_type": "markdown",
     "checksum": "5057a866bb8ff50d87b516baae63e831",
     "grade": false,
     "grade_id": "cell-23b27e65ee20b7fb",
     "locked": true,
     "schema_version": 3,
     "solution": false,
     "task": false
    }
   },
   "source": [
    "Pour tout $x \\in , ]0;+\\infty[$, un développement en série à l'ordre N de la fonction ln(x) est donné par :\n",
    "$$\n",
    "ln_N(x) = 2 \\sum_{n=0}^{N} \\frac{1}{2n+1}\\left(\\frac{x-1}{x+1}\\right)^ {2n+1}\n",
    "$$\n",
    "\n",
    "* En faisant varier $N$ de 0 à 100, calculer la valeur du développement pour $x=80$ et la valeur de l'erreur $E_N(80) = (ln_N(80) - ln(80))^2$. \n",
    "* Lors du calcul du développement et de l'erreur, vous allez stocker les valeurs dans un tableau afin de reproduire la figure ci-dessous:\n",
    "![](DevLimitLn.png)\n",
    "\n",
    "Prendre soin de mettre les titres, les noms des axes, d'utiliser subplot. Utiliser aussi la fonction `str` et une variable pour éviter les répétitions de code et saisir 80 plusieurs fois dans les titres ou labels des figures."
   ]
  },
  {
   "cell_type": "code",
   "execution_count": null,
   "metadata": {
    "deletable": false,
    "nbgrader": {
     "cell_type": "code",
     "checksum": "31dd47b500daf1da52cd86ab8e1f7d3f",
     "grade": true,
     "grade_id": "cell-25c40ce9e39f6c71",
     "locked": false,
     "points": 0,
     "schema_version": 3,
     "solution": true,
     "task": false
    }
   },
   "outputs": [],
   "source": [
    "# Réponse \n"
   ]
  },
  {
   "cell_type": "markdown",
   "metadata": {
    "deletable": false,
    "editable": false,
    "nbgrader": {
     "cell_type": "markdown",
     "checksum": "d2b4f3f3fd53ff6a06dd4f4a73622d99",
     "grade": false,
     "grade_id": "cell-e8be35bbb701e47e",
     "locked": true,
     "schema_version": 3,
     "solution": false,
     "task": false
    }
   },
   "source": [
    "Pour x réel, on donne le développement en série à l'ordre N de la fonction sin(x) :\n",
    "$$\n",
    "\\sin_N(x) = \\sum_{n=0}^N \\frac{(-1)^n}{(2n+1)!} x^{2n+1}\n",
    "$$\n",
    "Pour $x \\in [0,4\\pi]$, \n",
    "* Pour différentes valeurs de N allant de 1 à 40, tracer en noir sur une même figure le développment tronqué à N.\n",
    "* Superposer la courbe exacte sinus en rouge en trait plus épais \n",
    "comme le montre la figure ci-dessous. \n",
    "![](DevLimitSinus.png)"
   ]
  },
  {
   "cell_type": "code",
   "execution_count": null,
   "metadata": {
    "deletable": false,
    "nbgrader": {
     "cell_type": "code",
     "checksum": "aea22fcc260670b4bd21207f9a1896cf",
     "grade": true,
     "grade_id": "cell-29a2c0f6f0f7cade",
     "locked": false,
     "points": 0,
     "schema_version": 3,
     "solution": true,
     "task": false
    }
   },
   "outputs": [],
   "source": [
    "# Réponse \n"
   ]
  },
  {
   "cell_type": "markdown",
   "metadata": {
    "deletable": false,
    "editable": false,
    "nbgrader": {
     "cell_type": "markdown",
     "checksum": "1a0d133a130583d136c051dc135e7ade",
     "grade": false,
     "grade_id": "cell-d48e82842163ad64",
     "locked": true,
     "schema_version": 3,
     "solution": false,
     "task": false
    }
   },
   "source": [
    "## Robot Olympiade\n",
    "\n",
    "*Librement inspiré du sujet posé le 11 mars 2020 pour les Olympiades de Mathématiques en classe de première.*\n",
    "\n",
    "Un robot avance ou recule uniquement en ligne droite. Il possède deux compteurs\n",
    "indépendants qui obligent le robot à changer de sens et se remettent à zéro \n",
    "à chaque fois que le robot a parcouru une distance de 5 ou 8 centimètres \n",
    "respectivement. Le début de la séquence des changements de signes est donc 5,2,4,-1,....\n",
    "\n",
    "Écrire un code qui répond au cahier des charges suivant:\n",
    "\n",
    "* Sachant que le robot avance à 1cm/s, tracez la position du robot en centimètres en fonction du temps pour 500 secondes \n",
    "\n",
    "* On suppose que le robot est placé au milieu d'une table ronde de 50 centimètres de rayon. Écrire un message si le robot risque de tomber de la table.\n",
    "\n",
    "*Indication : Pensez à utiliser la division entière (%) pour faire les changements de sens du robot.*"
   ]
  },
  {
   "cell_type": "code",
   "execution_count": null,
   "metadata": {
    "deletable": false,
    "nbgrader": {
     "cell_type": "code",
     "checksum": "d6900d51132cb019005b75b54111504f",
     "grade": true,
     "grade_id": "cell-71581ba82d990dfa",
     "locked": false,
     "points": 0,
     "schema_version": 3,
     "solution": true,
     "task": false
    }
   },
   "outputs": [],
   "source": [
    "# Réponse \n"
   ]
  },
  {
   "cell_type": "markdown",
   "metadata": {
    "deletable": false,
    "editable": false,
    "nbgrader": {
     "cell_type": "markdown",
     "checksum": "36392d6d0530e427985378abef1c26d4",
     "grade": false,
     "grade_id": "cell-517a55c987a686fe",
     "locked": true,
     "schema_version": 3,
     "solution": false,
     "task": false
    }
   },
   "source": [
    "## Courbes paramétrées\n",
    " \n",
    " Les hypotrochoïdes sont des courbes décrites par un point lié à un disque roulant sans glisser intérieurement à un cercle de base. Ce sont des courbes que l’on obtient avec un spirographe avec disque interne. Ce qui nous intéresse dans cette partie du TP, c’est que bien que la formule mathématique soit toujours la même, la forme des courbes peut changer beaucoup lorsque l’on fait varier les paramètres qui la définissent. Nous allons nous intéresser aux rosaces qui sont des cas particuliers d’hypotrochoïde.\n",
    "\n",
    "![image.png](ExplicationRosaces.png)\n",
    "\n",
    "La représentation cartésienne des rosaces est définie par x=rcos(θ), y =rsin(θ), avec la définition du rapport entre le rayon et l’angle : r=cos(nθ) où n est le seul paramètre. Saurez-vous reproduire la figure suivante, qui représente une série de rosaces pour n=1,2,3,4,5, n=1/2,3/2,5/2,7/2,9/2 et n=1/3,2/3,4/3,5/3,7/3 ?\n",
    "![image.png](Rosaces.png)\n",
    "*Indications* : Faire un grand vecteur contenant toutes les valeurs de n. Utliser une boucle qui parcourt ce vecteur et trace les rosaces dans chaque case d'un tableau nblig x nbcol = 3 x 5 de sous-figures à l'aide de subplot(nblig,nbcol, ? )\n",
    "\n"
   ]
  },
  {
   "cell_type": "code",
   "execution_count": null,
   "metadata": {
    "deletable": false,
    "nbgrader": {
     "cell_type": "code",
     "checksum": "5269f8212564c77d6d1168a925eb1c03",
     "grade": true,
     "grade_id": "cell-b876ff27c8bba34a",
     "locked": false,
     "points": 0,
     "schema_version": 3,
     "solution": true,
     "task": false
    }
   },
   "outputs": [],
   "source": [
    "# Réponse \n"
   ]
  }
 ],
 "metadata": {
  "kernelspec": {
   "display_name": "Python 3",
   "language": "python",
   "name": "python3"
  },
  "language_info": {
   "codemirror_mode": {
    "name": "ipython",
    "version": 3
   },
   "file_extension": ".py",
   "mimetype": "text/x-python",
   "name": "python",
   "nbconvert_exporter": "python",
   "pygments_lexer": "ipython3",
   "version": "3.6.9"
  }
 },
 "nbformat": 4,
 "nbformat_minor": 2
}
